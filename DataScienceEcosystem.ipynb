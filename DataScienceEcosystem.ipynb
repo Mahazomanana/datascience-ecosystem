{
 "cells": [
  {
   "cell_type": "markdown",
   "id": "6f1bdcd2-a81a-47ea-9d38-54e8bd57ae41",
   "metadata": {},
   "source": [
    "# Data Science Tools and Ecosystem "
   ]
  },
  {
   "cell_type": "markdown",
   "id": "b9bfc195-b6b8-41b6-a35c-dd151db7a169",
   "metadata": {},
   "source": [
    "In this notebook, Data Science Tools and Ecosystem are summarized."
   ]
  },
  {
   "cell_type": "markdown",
   "id": "6e179104-e6ce-47f8-a907-6cc24ad31d7b",
   "metadata": {},
   "source": [
    "__Objectives__\n",
    "- Understand the key tools used in the Data Science ecosystem\n",
    "- Identify commonly used programming languages for Data Science\n",
    "- List popular libraries for data analysis and machine learning\n",
    "- Perform basic arithmetic operations using Python code\n",
    "- Demonstrate how to structure a Jupyter Notebook with markdown and code cells"
   ]
  },
  {
   "cell_type": "markdown",
   "id": "b7fb9bb3-0484-475e-a8db-a6b001c622eb",
   "metadata": {},
   "source": [
    "Some of the popular languages that Data Scientists use are:\n",
    "1. Python\n",
    "2. R\n",
    "3. Julia\n",
    "4. Scala\n",
    "5. SQL"
   ]
  },
  {
   "cell_type": "markdown",
   "id": "a7e68027-1aeb-4e3d-8870-80ef83662cc2",
   "metadata": {},
   "source": [
    "Some of the commonly used libraries used by Data Scientists include:\n",
    "1. Panda\n",
    "2. NymPy\n",
    "3. MatPlotLib\n",
    "4. Scikit-Learn\n",
    "5. TensorFlow"
   ]
  },
  {
   "cell_type": "markdown",
   "id": "474d2a2c-75e3-4510-9947-d8f48ef9f7eb",
   "metadata": {
    "jp-MarkdownHeadingCollapsed": true
   },
   "source": [
    "| Data Science Tools |\n",
    "|--------------------|\n",
    "| Jupyter Notebook   |\n",
    "| R Studio           |\n",
    "| VS Code            |"
   ]
  },
  {
   "cell_type": "markdown",
   "id": "48d6e023-b05f-43f6-8134-b9027fcc18b2",
   "metadata": {},
   "source": [
    "### Below are a few examples of evaluating arithmetic expressions in Python."
   ]
  },
  {
   "cell_type": "code",
   "execution_count": 1,
   "id": "19722690-07dc-49fe-af32-56763d6a056e",
   "metadata": {},
   "outputs": [
    {
     "data": {
      "text/plain": [
       "17"
      ]
     },
     "execution_count": 1,
     "metadata": {},
     "output_type": "execute_result"
    }
   ],
   "source": [
    "# This a simple arithmetic expression to mutiply then add integers.\n",
    "(3*4)+5"
   ]
  },
  {
   "cell_type": "code",
   "execution_count": 2,
   "id": "6e13431d-b07f-4bb4-8ecc-2e8b5276250b",
   "metadata": {},
   "outputs": [
    {
     "data": {
      "text/plain": [
       "3.3333333333333335"
      ]
     },
     "execution_count": 2,
     "metadata": {},
     "output_type": "execute_result"
    }
   ],
   "source": [
    "# This will convert 200 minutes to hours by diving by 60.\n",
    "200/60"
   ]
  },
  {
   "cell_type": "markdown",
   "id": "9681c385-0c23-4d52-8844-3d1049b3e7b5",
   "metadata": {},
   "source": [
    "## Author \n",
    "Christophe Mahazomanana"
   ]
  },
  {
   "cell_type": "code",
   "execution_count": null,
   "id": "96374b1c-e749-448a-ad81-a7dcc4233c4b",
   "metadata": {},
   "outputs": [],
   "source": []
  }
 ],
 "metadata": {
  "kernelspec": {
   "display_name": "Python 3 (ipykernel)",
   "language": "python",
   "name": "python3"
  },
  "language_info": {
   "codemirror_mode": {
    "name": "ipython",
    "version": 3
   },
   "file_extension": ".py",
   "mimetype": "text/x-python",
   "name": "python",
   "nbconvert_exporter": "python",
   "pygments_lexer": "ipython3",
   "version": "3.13.5"
  }
 },
 "nbformat": 4,
 "nbformat_minor": 5
}
